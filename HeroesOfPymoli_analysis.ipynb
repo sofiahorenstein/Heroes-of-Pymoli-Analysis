{
 "cells": [
  {
   "cell_type": "markdown",
   "metadata": {},
   "source": [
    "# Heroes Of Pymoli Data Analysis\n",
    "\n",
    "Data Insights \n",
    "\n",
    "* Of the 546 unique players of Heroes of Pymoli, 84% identify as male, 14% identify as female, and 2% identify as other/non-disclosed. \n",
    "\n",
    "* The most popular item purchased is \"Oathbreaker, Last Hope of the Breaking Storm\" with a total of 12 insedividual purchases. \n",
    "\n",
    "* Although the male player group had the highest total purchase value at 1967.64 dollars, the male, female, and other/non-disclosed groups had similar average purchase prices of 3.20 dollars (female), 3.02 dollars (male), and 3.35 dollars (other/non-disclosed).\n"
   ]
  },
  {
   "cell_type": "code",
   "execution_count": 38,
   "metadata": {},
   "outputs": [
    {
     "data": {
      "text/html": [
       "<div>\n",
       "<style scoped>\n",
       "    .dataframe tbody tr th:only-of-type {\n",
       "        vertical-align: middle;\n",
       "    }\n",
       "\n",
       "    .dataframe tbody tr th {\n",
       "        vertical-align: top;\n",
       "    }\n",
       "\n",
       "    .dataframe thead th {\n",
       "        text-align: right;\n",
       "    }\n",
       "</style>\n",
       "<table border=\"1\" class=\"dataframe\">\n",
       "  <thead>\n",
       "    <tr style=\"text-align: right;\">\n",
       "      <th></th>\n",
       "      <th>Purchase ID</th>\n",
       "      <th>SN</th>\n",
       "      <th>Age</th>\n",
       "      <th>Gender</th>\n",
       "      <th>Item ID</th>\n",
       "      <th>Item Name</th>\n",
       "      <th>Price</th>\n",
       "    </tr>\n",
       "  </thead>\n",
       "  <tbody>\n",
       "    <tr>\n",
       "      <th>0</th>\n",
       "      <td>0</td>\n",
       "      <td>Lisim78</td>\n",
       "      <td>20</td>\n",
       "      <td>Male</td>\n",
       "      <td>108</td>\n",
       "      <td>Extraction, Quickblade Of Trembling Hands</td>\n",
       "      <td>3.53</td>\n",
       "    </tr>\n",
       "    <tr>\n",
       "      <th>1</th>\n",
       "      <td>1</td>\n",
       "      <td>Lisovynya38</td>\n",
       "      <td>40</td>\n",
       "      <td>Male</td>\n",
       "      <td>143</td>\n",
       "      <td>Frenzied Scimitar</td>\n",
       "      <td>1.56</td>\n",
       "    </tr>\n",
       "    <tr>\n",
       "      <th>2</th>\n",
       "      <td>2</td>\n",
       "      <td>Ithergue48</td>\n",
       "      <td>24</td>\n",
       "      <td>Male</td>\n",
       "      <td>92</td>\n",
       "      <td>Final Critic</td>\n",
       "      <td>4.88</td>\n",
       "    </tr>\n",
       "    <tr>\n",
       "      <th>3</th>\n",
       "      <td>3</td>\n",
       "      <td>Chamassasya86</td>\n",
       "      <td>24</td>\n",
       "      <td>Male</td>\n",
       "      <td>100</td>\n",
       "      <td>Blindscythe</td>\n",
       "      <td>3.27</td>\n",
       "    </tr>\n",
       "    <tr>\n",
       "      <th>4</th>\n",
       "      <td>4</td>\n",
       "      <td>Iskosia90</td>\n",
       "      <td>23</td>\n",
       "      <td>Male</td>\n",
       "      <td>131</td>\n",
       "      <td>Fury</td>\n",
       "      <td>1.44</td>\n",
       "    </tr>\n",
       "  </tbody>\n",
       "</table>\n",
       "</div>"
      ],
      "text/plain": [
       "   Purchase ID             SN  Age Gender  Item ID  \\\n",
       "0            0        Lisim78   20   Male      108   \n",
       "1            1    Lisovynya38   40   Male      143   \n",
       "2            2     Ithergue48   24   Male       92   \n",
       "3            3  Chamassasya86   24   Male      100   \n",
       "4            4      Iskosia90   23   Male      131   \n",
       "\n",
       "                                   Item Name  Price  \n",
       "0  Extraction, Quickblade Of Trembling Hands   3.53  \n",
       "1                          Frenzied Scimitar   1.56  \n",
       "2                               Final Critic   4.88  \n",
       "3                                Blindscythe   3.27  \n",
       "4                                       Fury   1.44  "
      ]
     },
     "execution_count": 38,
     "metadata": {},
     "output_type": "execute_result"
    }
   ],
   "source": [
    "# Dependencies and Setup\n",
    "import pandas as pd\n",
    "import numpy as np\n",
    "\n",
    "# File to Load (Remember to Change These)\n",
    "file_to_load = \"../Heroes-of-Pymoli-Analysis/purchase_data.csv\"\n",
    "\n",
    "# Read Purchasing File and store into Pandas data frame\n",
    "purchase_data = pd.read_csv(file_to_load)\n",
    "\n",
    "purchase_data.head()"
   ]
  },
  {
   "cell_type": "markdown",
   "metadata": {},
   "source": [
    "## Player Count"
   ]
  },
  {
   "cell_type": "markdown",
   "metadata": {},
   "source": [
    "* Display the total number of players\n"
   ]
  },
  {
   "cell_type": "code",
   "execution_count": 3,
   "metadata": {},
   "outputs": [
    {
     "name": "stdout",
     "output_type": "stream",
     "text": [
      "Total Players: 576\n"
     ]
    }
   ],
   "source": [
    "#unique_players = purchase_data[\"SN\"].unique()\n",
    "unique_players = purchase_data[\"SN\"].unique().tolist()\n",
    "#print(unique_players)\n",
    "unique_player_total = len(purchase_data[\"SN\"].unique().tolist())\n",
    "print(f\"Total Players: {unique_player_total}\")\n"
   ]
  },
  {
   "cell_type": "markdown",
   "metadata": {},
   "source": [
    "## Purchasing Analysis (Total)"
   ]
  },
  {
   "cell_type": "markdown",
   "metadata": {},
   "source": [
    "* Run basic calculations to obtain number of unique items, average price, etc.\n",
    "\n",
    "\n",
    "* Create a summary data frame to hold the results\n",
    "\n",
    "\n",
    "* Optional: give the displayed data cleaner formatting\n",
    "\n",
    "\n",
    "* Display the summary data frame\n"
   ]
  },
  {
   "cell_type": "code",
   "execution_count": 4,
   "metadata": {
    "scrolled": false
   },
   "outputs": [
    {
     "data": {
      "text/html": [
       "<style  type=\"text/css\" >\n",
       "</style><table id=\"T_b76ebb8e_da3d_11e9_8ff5_acde48001122\" ><thead>    <tr>        <th class=\"blank level0\" ></th>        <th class=\"col_heading level0 col0\" >Number of Unique Items</th>        <th class=\"col_heading level0 col1\" >Average Price</th>        <th class=\"col_heading level0 col2\" >Number of Purchases</th>        <th class=\"col_heading level0 col3\" >Total Revenue</th>    </tr></thead><tbody>\n",
       "                <tr>\n",
       "                        <th id=\"T_b76ebb8e_da3d_11e9_8ff5_acde48001122level0_row0\" class=\"row_heading level0 row0\" >0</th>\n",
       "                        <td id=\"T_b76ebb8e_da3d_11e9_8ff5_acde48001122row0_col0\" class=\"data row0 col0\" >183</td>\n",
       "                        <td id=\"T_b76ebb8e_da3d_11e9_8ff5_acde48001122row0_col1\" class=\"data row0 col1\" >$3.05</td>\n",
       "                        <td id=\"T_b76ebb8e_da3d_11e9_8ff5_acde48001122row0_col2\" class=\"data row0 col2\" >780</td>\n",
       "                        <td id=\"T_b76ebb8e_da3d_11e9_8ff5_acde48001122row0_col3\" class=\"data row0 col3\" >$2,379.77</td>\n",
       "            </tr>\n",
       "    </tbody></table>"
      ],
      "text/plain": [
       "<pandas.io.formats.style.Styler at 0x10f21d1d0>"
      ]
     },
     "execution_count": 4,
     "metadata": {},
     "output_type": "execute_result"
    }
   ],
   "source": [
    "unique_items = purchase_data[\"Item ID\"].unique()\n",
    "\n",
    "unique_total = len(purchase_data[\"Item ID\"].unique().tolist())\n",
    "\n",
    "\n",
    "avg_price = purchase_data[\"Price\"].mean()\n",
    "\n",
    "\n",
    "total_purchases = purchase_data[\"Price\"].count()\n",
    "\n",
    "\n",
    "total_revenue = purchase_data[\"Price\"].sum()\n",
    "\n",
    "\n",
    "summary_df = pd.DataFrame({\"Number of Unique Items\": unique_total , \"Average Price\": [avg_price], \"Number of Purchases\":total_purchases, \"Total Revenue\": [total_revenue] })\n",
    "summary_df\n",
    "\n",
    "summary_df.style.format({'Average Price':\"${:,.2f}\",\n",
    "                         'Total Revenue': '${:,.2f}'})\n",
    "\n",
    "\n"
   ]
  },
  {
   "cell_type": "markdown",
   "metadata": {},
   "source": [
    "## Gender Demographics"
   ]
  },
  {
   "cell_type": "markdown",
   "metadata": {},
   "source": [
    "* Percentage and Count of Male Players\n",
    "\n",
    "\n",
    "* Percentage and Count of Female Players\n",
    "\n",
    "\n",
    "* Percentage and Count of Other / Non-Disclosed\n",
    "\n",
    "\n"
   ]
  },
  {
   "cell_type": "code",
   "execution_count": 20,
   "metadata": {
    "scrolled": true
   },
   "outputs": [
    {
     "data": {
      "text/html": [
       "<style  type=\"text/css\" >\n",
       "</style><table id=\"T_47f00c5c_da44_11e9_8ff5_acde48001122\" ><thead>    <tr>        <th class=\"blank level0\" ></th>        <th class=\"col_heading level0 col0\" >Total Count</th>        <th class=\"col_heading level0 col1\" >Percentage of Players</th>    </tr></thead><tbody>\n",
       "                <tr>\n",
       "                        <th id=\"T_47f00c5c_da44_11e9_8ff5_acde48001122level0_row0\" class=\"row_heading level0 row0\" >Male</th>\n",
       "                        <td id=\"T_47f00c5c_da44_11e9_8ff5_acde48001122row0_col0\" class=\"data row0 col0\" >484</td>\n",
       "                        <td id=\"T_47f00c5c_da44_11e9_8ff5_acde48001122row0_col1\" class=\"data row0 col1\" >84.03</td>\n",
       "            </tr>\n",
       "            <tr>\n",
       "                        <th id=\"T_47f00c5c_da44_11e9_8ff5_acde48001122level0_row1\" class=\"row_heading level0 row1\" >Female</th>\n",
       "                        <td id=\"T_47f00c5c_da44_11e9_8ff5_acde48001122row1_col0\" class=\"data row1 col0\" >81</td>\n",
       "                        <td id=\"T_47f00c5c_da44_11e9_8ff5_acde48001122row1_col1\" class=\"data row1 col1\" >14.06</td>\n",
       "            </tr>\n",
       "            <tr>\n",
       "                        <th id=\"T_47f00c5c_da44_11e9_8ff5_acde48001122level0_row2\" class=\"row_heading level0 row2\" >Other / Non-Disclosed</th>\n",
       "                        <td id=\"T_47f00c5c_da44_11e9_8ff5_acde48001122row2_col0\" class=\"data row2 col0\" >11</td>\n",
       "                        <td id=\"T_47f00c5c_da44_11e9_8ff5_acde48001122row2_col1\" class=\"data row2 col1\" >1.91</td>\n",
       "            </tr>\n",
       "    </tbody></table>"
      ],
      "text/plain": [
       "<pandas.io.formats.style.Styler at 0x120bde0f0>"
      ]
     },
     "execution_count": 20,
     "metadata": {},
     "output_type": "execute_result"
    }
   ],
   "source": [
    "unique_df = purchase_data.groupby([\"SN\",\"Gender\"]).size().reset_index(name=\"Unique Gender\")\n",
    "\n",
    "\n",
    "gender_count = unique_df[\"Gender\"].value_counts()\n",
    "\n",
    "\n",
    "player_percent = (gender_count/unique_player_total) * 100\n",
    "\n",
    "\n",
    "unique_male = unique_df.loc[unique_df[\"Gender\"] == \"Male\", :]\n",
    "\n",
    "\n",
    "male_count = unique_male[\"Gender\"].count()\n",
    "\n",
    "\n",
    "male_percent = (male_count/unique_player_total) * 100\n",
    "\n",
    "\n",
    "unique_female = unique_df.loc[unique_df[\"Gender\"] == \"Female\", :]\n",
    "\n",
    "\n",
    "female_count = unique_female[\"Gender\"].count()\n",
    "\n",
    "\n",
    "female_percent = (female_count/unique_player_total) * 100\n",
    "\n",
    "\n",
    "unique_other = unique_df.loc[unique_df[\"Gender\"] == \"Other / Non-Disclosed\", :]\n",
    "\n",
    "\n",
    "other_count = unique_other[\"Gender\"].count()\n",
    "\n",
    "\n",
    "other_percent = (other_count/unique_player_total) * 100\n",
    "\n",
    "gender_summary_table = pd.DataFrame({\"Total Count\": gender_count,\n",
    "                                    \"Percentage of Players\": player_percent})\n",
    "gender_summary_table\n",
    "\n",
    "\n",
    "gender_summary_table.style.format({'Percentage of Players':\"{:.2f}\"})\n",
    "\n",
    "\n"
   ]
  },
  {
   "cell_type": "markdown",
   "metadata": {},
   "source": [
    "\n",
    "## Purchasing Analysis (Gender)"
   ]
  },
  {
   "cell_type": "markdown",
   "metadata": {},
   "source": [
    "* Run basic calculations to obtain purchase count, avg. purchase price, avg. purchase total per person etc. by gender\n",
    "\n",
    "\n",
    "\n",
    "\n",
    "* Create a summary data frame to hold the results\n",
    "\n",
    "\n",
    "* Optional: give the displayed data cleaner formatting\n",
    "\n",
    "\n",
    "* Display the summary data frame"
   ]
  },
  {
   "cell_type": "code",
   "execution_count": 37,
   "metadata": {
    "scrolled": true
   },
   "outputs": [
    {
     "data": {
      "text/html": [
       "<style  type=\"text/css\" >\n",
       "</style><table id=\"T_b724e4f0_da47_11e9_8ff5_acde48001122\" ><thead>    <tr>        <th class=\"blank level0\" ></th>        <th class=\"col_heading level0 col0\" >Purchase Count</th>        <th class=\"col_heading level0 col1\" >Average Purchase Price</th>        <th class=\"col_heading level0 col2\" >Total Purchase Value</th>        <th class=\"col_heading level0 col3\" >Avg Total Purchase Per Person</th>    </tr>    <tr>        <th class=\"index_name level0\" >Gender</th>        <th class=\"blank\" ></th>        <th class=\"blank\" ></th>        <th class=\"blank\" ></th>        <th class=\"blank\" ></th>    </tr></thead><tbody>\n",
       "                <tr>\n",
       "                        <th id=\"T_b724e4f0_da47_11e9_8ff5_acde48001122level0_row0\" class=\"row_heading level0 row0\" >Female</th>\n",
       "                        <td id=\"T_b724e4f0_da47_11e9_8ff5_acde48001122row0_col0\" class=\"data row0 col0\" >113</td>\n",
       "                        <td id=\"T_b724e4f0_da47_11e9_8ff5_acde48001122row0_col1\" class=\"data row0 col1\" >$3.20</td>\n",
       "                        <td id=\"T_b724e4f0_da47_11e9_8ff5_acde48001122row0_col2\" class=\"data row0 col2\" >$361.94</td>\n",
       "                        <td id=\"T_b724e4f0_da47_11e9_8ff5_acde48001122row0_col3\" class=\"data row0 col3\" >$4.47</td>\n",
       "            </tr>\n",
       "            <tr>\n",
       "                        <th id=\"T_b724e4f0_da47_11e9_8ff5_acde48001122level0_row1\" class=\"row_heading level0 row1\" >Male</th>\n",
       "                        <td id=\"T_b724e4f0_da47_11e9_8ff5_acde48001122row1_col0\" class=\"data row1 col0\" >652</td>\n",
       "                        <td id=\"T_b724e4f0_da47_11e9_8ff5_acde48001122row1_col1\" class=\"data row1 col1\" >$3.02</td>\n",
       "                        <td id=\"T_b724e4f0_da47_11e9_8ff5_acde48001122row1_col2\" class=\"data row1 col2\" >$1,967.64</td>\n",
       "                        <td id=\"T_b724e4f0_da47_11e9_8ff5_acde48001122row1_col3\" class=\"data row1 col3\" >$4.07</td>\n",
       "            </tr>\n",
       "            <tr>\n",
       "                        <th id=\"T_b724e4f0_da47_11e9_8ff5_acde48001122level0_row2\" class=\"row_heading level0 row2\" >Other / Non-Disclosed</th>\n",
       "                        <td id=\"T_b724e4f0_da47_11e9_8ff5_acde48001122row2_col0\" class=\"data row2 col0\" >15</td>\n",
       "                        <td id=\"T_b724e4f0_da47_11e9_8ff5_acde48001122row2_col1\" class=\"data row2 col1\" >$3.35</td>\n",
       "                        <td id=\"T_b724e4f0_da47_11e9_8ff5_acde48001122row2_col2\" class=\"data row2 col2\" >$50.19</td>\n",
       "                        <td id=\"T_b724e4f0_da47_11e9_8ff5_acde48001122row2_col3\" class=\"data row2 col3\" >$4.56</td>\n",
       "            </tr>\n",
       "    </tbody></table>"
      ],
      "text/plain": [
       "<pandas.io.formats.style.Styler at 0x122267ef0>"
      ]
     },
     "execution_count": 37,
     "metadata": {},
     "output_type": "execute_result"
    }
   ],
   "source": [
    "gen_purchase_df = purchase_data.groupby([\"Gender\"])\n",
    "\n",
    "gen_count = gen_purchase_df[\"Price\"].count()\n",
    "total_gen = gen_purchase_df[\"Price\"].sum()\n",
    "\n",
    "sum_pur = gen_purchase_df[\"Price\"].sum()\n",
    "\n",
    "gen_mean = gen_purchase_df[\"Price\"].mean()\n",
    "\n",
    "avg_price_gen = sum_pur / gender_count \n",
    "\n",
    "\n",
    "gender_purchase_summary_table = pd.DataFrame({\"Purchase Count\": gen_count,\n",
    "                                    \"Average Purchase Price\": gen_mean,\"Total Purchase Value\": total_gen, \"Avg Total Purchase Per Person\": avg_price_gen})\n",
    "gender_purchase_summary_table\n",
    "\n",
    "\n",
    "gender_purchase_summary_table.style.format({'Average Purchase Price':\"${:,.2f}\",'Total Purchase Value':\"${:,.2f}\",'Avg Total Purchase Per Person':\"${:,.2f}\"})\n"
   ]
  },
  {
   "cell_type": "markdown",
   "metadata": {},
   "source": [
    "## Age Demographics"
   ]
  },
  {
   "cell_type": "markdown",
   "metadata": {},
   "source": [
    "* Establish bins for ages\n",
    "\n",
    "\n",
    "* Categorize the existing players using the age bins. Hint: use pd.cut()\n",
    "\n",
    "\n",
    "* Calculate the numbers and percentages by age group\n",
    "\n",
    "\n",
    "* Create a summary data frame to hold the results\n",
    "\n",
    "\n",
    "* Optional: round the percentage column to two decimal points\n",
    "\n",
    "\n",
    "* Display Age Demographics Table\n"
   ]
  },
  {
   "cell_type": "code",
   "execution_count": 21,
   "metadata": {},
   "outputs": [
    {
     "data": {
      "text/html": [
       "<style  type=\"text/css\" >\n",
       "</style><table id=\"T_6f8291e0_da44_11e9_8ff5_acde48001122\" ><thead>    <tr>        <th class=\"blank level0\" ></th>        <th class=\"col_heading level0 col0\" >Total Count</th>        <th class=\"col_heading level0 col1\" >Percentage of Players</th>    </tr></thead><tbody>\n",
       "                <tr>\n",
       "                        <th id=\"T_6f8291e0_da44_11e9_8ff5_acde48001122level0_row0\" class=\"row_heading level0 row0\" >20-24</th>\n",
       "                        <td id=\"T_6f8291e0_da44_11e9_8ff5_acde48001122row0_col0\" class=\"data row0 col0\" >258</td>\n",
       "                        <td id=\"T_6f8291e0_da44_11e9_8ff5_acde48001122row0_col1\" class=\"data row0 col1\" >44.79</td>\n",
       "            </tr>\n",
       "            <tr>\n",
       "                        <th id=\"T_6f8291e0_da44_11e9_8ff5_acde48001122level0_row1\" class=\"row_heading level0 row1\" >15-19</th>\n",
       "                        <td id=\"T_6f8291e0_da44_11e9_8ff5_acde48001122row1_col0\" class=\"data row1 col0\" >107</td>\n",
       "                        <td id=\"T_6f8291e0_da44_11e9_8ff5_acde48001122row1_col1\" class=\"data row1 col1\" >18.58</td>\n",
       "            </tr>\n",
       "            <tr>\n",
       "                        <th id=\"T_6f8291e0_da44_11e9_8ff5_acde48001122level0_row2\" class=\"row_heading level0 row2\" >25-29</th>\n",
       "                        <td id=\"T_6f8291e0_da44_11e9_8ff5_acde48001122row2_col0\" class=\"data row2 col0\" >77</td>\n",
       "                        <td id=\"T_6f8291e0_da44_11e9_8ff5_acde48001122row2_col1\" class=\"data row2 col1\" >13.37</td>\n",
       "            </tr>\n",
       "            <tr>\n",
       "                        <th id=\"T_6f8291e0_da44_11e9_8ff5_acde48001122level0_row3\" class=\"row_heading level0 row3\" >30-34</th>\n",
       "                        <td id=\"T_6f8291e0_da44_11e9_8ff5_acde48001122row3_col0\" class=\"data row3 col0\" >52</td>\n",
       "                        <td id=\"T_6f8291e0_da44_11e9_8ff5_acde48001122row3_col1\" class=\"data row3 col1\" >9.03</td>\n",
       "            </tr>\n",
       "            <tr>\n",
       "                        <th id=\"T_6f8291e0_da44_11e9_8ff5_acde48001122level0_row4\" class=\"row_heading level0 row4\" >35-39</th>\n",
       "                        <td id=\"T_6f8291e0_da44_11e9_8ff5_acde48001122row4_col0\" class=\"data row4 col0\" >31</td>\n",
       "                        <td id=\"T_6f8291e0_da44_11e9_8ff5_acde48001122row4_col1\" class=\"data row4 col1\" >5.38</td>\n",
       "            </tr>\n",
       "            <tr>\n",
       "                        <th id=\"T_6f8291e0_da44_11e9_8ff5_acde48001122level0_row5\" class=\"row_heading level0 row5\" >10-14</th>\n",
       "                        <td id=\"T_6f8291e0_da44_11e9_8ff5_acde48001122row5_col0\" class=\"data row5 col0\" >22</td>\n",
       "                        <td id=\"T_6f8291e0_da44_11e9_8ff5_acde48001122row5_col1\" class=\"data row5 col1\" >3.82</td>\n",
       "            </tr>\n",
       "            <tr>\n",
       "                        <th id=\"T_6f8291e0_da44_11e9_8ff5_acde48001122level0_row6\" class=\"row_heading level0 row6\" ><10</th>\n",
       "                        <td id=\"T_6f8291e0_da44_11e9_8ff5_acde48001122row6_col0\" class=\"data row6 col0\" >17</td>\n",
       "                        <td id=\"T_6f8291e0_da44_11e9_8ff5_acde48001122row6_col1\" class=\"data row6 col1\" >2.95</td>\n",
       "            </tr>\n",
       "            <tr>\n",
       "                        <th id=\"T_6f8291e0_da44_11e9_8ff5_acde48001122level0_row7\" class=\"row_heading level0 row7\" >40+</th>\n",
       "                        <td id=\"T_6f8291e0_da44_11e9_8ff5_acde48001122row7_col0\" class=\"data row7 col0\" >12</td>\n",
       "                        <td id=\"T_6f8291e0_da44_11e9_8ff5_acde48001122row7_col1\" class=\"data row7 col1\" >2.08</td>\n",
       "            </tr>\n",
       "    </tbody></table>"
      ],
      "text/plain": [
       "<pandas.io.formats.style.Styler at 0x120bf70b8>"
      ]
     },
     "execution_count": 21,
     "metadata": {},
     "output_type": "execute_result"
    }
   ],
   "source": [
    "bins = [0, 9, 14, 19, 24, 29,\n",
    "        34, 39, 100]\n",
    "\n",
    "\n",
    "# Create labels for these bins\n",
    "group_labels = [\"<10\", \"10-14\", \"15-19\", \"20-24\", \"25-29\", \"30-34\",\n",
    "                \"35-39\", \"40+\"]\n",
    "\n",
    "unique_df = purchase_data.groupby([\"SN\",\"Age\"]).size().reset_index(name=\"Unique Age\")\n",
    "#print (unique_df)\n",
    "\n",
    "unique_SN = unique_df[\"SN\"].unique()\n",
    "unique_SN_total = len(unique_SN)\n",
    "\n",
    "\n",
    "unique_df[\"Age\"]= pd.cut(unique_df[\"Age\"], bins, labels=group_labels)\n",
    "\n",
    "unique_count = unique_df[\"Age\"].value_counts()\n",
    "\n",
    "unique_percent = (unique_count / unique_SN_total) * 100\n",
    "\n",
    "\n",
    "age_summary_table = pd.DataFrame({\"Total Count\": unique_count,\n",
    "                                    \"Percentage of Players\": unique_percent})\n",
    "age_summary_table\n",
    "\n",
    "age_summary_table.style.format({\"Percentage of Players\": \"{:.2f}\"})\n"
   ]
  },
  {
   "cell_type": "markdown",
   "metadata": {},
   "source": [
    "## Purchasing Analysis (Age)"
   ]
  },
  {
   "cell_type": "markdown",
   "metadata": {},
   "source": [
    "* Bin the purchase_data data frame by age\n",
    "\n",
    "\n",
    "* Run basic calculations to obtain purchase count, avg. purchase price, avg. purchase total per person etc. in the table below\n",
    "\n",
    "\n",
    "* Create a summary data frame to hold the results\n",
    "\n",
    "\n",
    "* Optional: give the displayed data cleaner formatting\n",
    "\n",
    "\n",
    "* Display the summary data frame"
   ]
  },
  {
   "cell_type": "code",
   "execution_count": 39,
   "metadata": {},
   "outputs": [
    {
     "data": {
      "text/html": [
       "<style  type=\"text/css\" >\n",
       "</style><table id=\"T_d6aaa51c_da47_11e9_8ff5_acde48001122\" ><thead>    <tr>        <th class=\"blank level0\" ></th>        <th class=\"col_heading level0 col0\" >Purchase Count</th>        <th class=\"col_heading level0 col1\" >Average Purchase Price</th>        <th class=\"col_heading level0 col2\" >Total Purchase Value</th>        <th class=\"col_heading level0 col3\" >Avg Total Purchase Per Person</th>    </tr></thead><tbody>\n",
       "                <tr>\n",
       "                        <th id=\"T_d6aaa51c_da47_11e9_8ff5_acde48001122level0_row0\" class=\"row_heading level0 row0\" >10-14</th>\n",
       "                        <td id=\"T_d6aaa51c_da47_11e9_8ff5_acde48001122row0_col0\" class=\"data row0 col0\" >28</td>\n",
       "                        <td id=\"T_d6aaa51c_da47_11e9_8ff5_acde48001122row0_col1\" class=\"data row0 col1\" >$2.96</td>\n",
       "                        <td id=\"T_d6aaa51c_da47_11e9_8ff5_acde48001122row0_col2\" class=\"data row0 col2\" >$82.78</td>\n",
       "                        <td id=\"T_d6aaa51c_da47_11e9_8ff5_acde48001122row0_col3\" class=\"data row0 col3\" >$3.76</td>\n",
       "            </tr>\n",
       "            <tr>\n",
       "                        <th id=\"T_d6aaa51c_da47_11e9_8ff5_acde48001122level0_row1\" class=\"row_heading level0 row1\" >15-19</th>\n",
       "                        <td id=\"T_d6aaa51c_da47_11e9_8ff5_acde48001122row1_col0\" class=\"data row1 col0\" >136</td>\n",
       "                        <td id=\"T_d6aaa51c_da47_11e9_8ff5_acde48001122row1_col1\" class=\"data row1 col1\" >$3.04</td>\n",
       "                        <td id=\"T_d6aaa51c_da47_11e9_8ff5_acde48001122row1_col2\" class=\"data row1 col2\" >$412.89</td>\n",
       "                        <td id=\"T_d6aaa51c_da47_11e9_8ff5_acde48001122row1_col3\" class=\"data row1 col3\" >$3.86</td>\n",
       "            </tr>\n",
       "            <tr>\n",
       "                        <th id=\"T_d6aaa51c_da47_11e9_8ff5_acde48001122level0_row2\" class=\"row_heading level0 row2\" >20-24</th>\n",
       "                        <td id=\"T_d6aaa51c_da47_11e9_8ff5_acde48001122row2_col0\" class=\"data row2 col0\" >365</td>\n",
       "                        <td id=\"T_d6aaa51c_da47_11e9_8ff5_acde48001122row2_col1\" class=\"data row2 col1\" >$3.05</td>\n",
       "                        <td id=\"T_d6aaa51c_da47_11e9_8ff5_acde48001122row2_col2\" class=\"data row2 col2\" >$1,114.06</td>\n",
       "                        <td id=\"T_d6aaa51c_da47_11e9_8ff5_acde48001122row2_col3\" class=\"data row2 col3\" >$4.32</td>\n",
       "            </tr>\n",
       "            <tr>\n",
       "                        <th id=\"T_d6aaa51c_da47_11e9_8ff5_acde48001122level0_row3\" class=\"row_heading level0 row3\" >25-29</th>\n",
       "                        <td id=\"T_d6aaa51c_da47_11e9_8ff5_acde48001122row3_col0\" class=\"data row3 col0\" >101</td>\n",
       "                        <td id=\"T_d6aaa51c_da47_11e9_8ff5_acde48001122row3_col1\" class=\"data row3 col1\" >$2.90</td>\n",
       "                        <td id=\"T_d6aaa51c_da47_11e9_8ff5_acde48001122row3_col2\" class=\"data row3 col2\" >$293.00</td>\n",
       "                        <td id=\"T_d6aaa51c_da47_11e9_8ff5_acde48001122row3_col3\" class=\"data row3 col3\" >$3.81</td>\n",
       "            </tr>\n",
       "            <tr>\n",
       "                        <th id=\"T_d6aaa51c_da47_11e9_8ff5_acde48001122level0_row4\" class=\"row_heading level0 row4\" >30-34</th>\n",
       "                        <td id=\"T_d6aaa51c_da47_11e9_8ff5_acde48001122row4_col0\" class=\"data row4 col0\" >73</td>\n",
       "                        <td id=\"T_d6aaa51c_da47_11e9_8ff5_acde48001122row4_col1\" class=\"data row4 col1\" >$2.93</td>\n",
       "                        <td id=\"T_d6aaa51c_da47_11e9_8ff5_acde48001122row4_col2\" class=\"data row4 col2\" >$214.00</td>\n",
       "                        <td id=\"T_d6aaa51c_da47_11e9_8ff5_acde48001122row4_col3\" class=\"data row4 col3\" >$4.12</td>\n",
       "            </tr>\n",
       "            <tr>\n",
       "                        <th id=\"T_d6aaa51c_da47_11e9_8ff5_acde48001122level0_row5\" class=\"row_heading level0 row5\" >35-39</th>\n",
       "                        <td id=\"T_d6aaa51c_da47_11e9_8ff5_acde48001122row5_col0\" class=\"data row5 col0\" >41</td>\n",
       "                        <td id=\"T_d6aaa51c_da47_11e9_8ff5_acde48001122row5_col1\" class=\"data row5 col1\" >$3.60</td>\n",
       "                        <td id=\"T_d6aaa51c_da47_11e9_8ff5_acde48001122row5_col2\" class=\"data row5 col2\" >$147.67</td>\n",
       "                        <td id=\"T_d6aaa51c_da47_11e9_8ff5_acde48001122row5_col3\" class=\"data row5 col3\" >$4.76</td>\n",
       "            </tr>\n",
       "            <tr>\n",
       "                        <th id=\"T_d6aaa51c_da47_11e9_8ff5_acde48001122level0_row6\" class=\"row_heading level0 row6\" >40+</th>\n",
       "                        <td id=\"T_d6aaa51c_da47_11e9_8ff5_acde48001122row6_col0\" class=\"data row6 col0\" >13</td>\n",
       "                        <td id=\"T_d6aaa51c_da47_11e9_8ff5_acde48001122row6_col1\" class=\"data row6 col1\" >$2.94</td>\n",
       "                        <td id=\"T_d6aaa51c_da47_11e9_8ff5_acde48001122row6_col2\" class=\"data row6 col2\" >$38.24</td>\n",
       "                        <td id=\"T_d6aaa51c_da47_11e9_8ff5_acde48001122row6_col3\" class=\"data row6 col3\" >$3.19</td>\n",
       "            </tr>\n",
       "            <tr>\n",
       "                        <th id=\"T_d6aaa51c_da47_11e9_8ff5_acde48001122level0_row7\" class=\"row_heading level0 row7\" ><10</th>\n",
       "                        <td id=\"T_d6aaa51c_da47_11e9_8ff5_acde48001122row7_col0\" class=\"data row7 col0\" >23</td>\n",
       "                        <td id=\"T_d6aaa51c_da47_11e9_8ff5_acde48001122row7_col1\" class=\"data row7 col1\" >$3.35</td>\n",
       "                        <td id=\"T_d6aaa51c_da47_11e9_8ff5_acde48001122row7_col2\" class=\"data row7 col2\" >$77.13</td>\n",
       "                        <td id=\"T_d6aaa51c_da47_11e9_8ff5_acde48001122row7_col3\" class=\"data row7 col3\" >$4.54</td>\n",
       "            </tr>\n",
       "    </tbody></table>"
      ],
      "text/plain": [
       "<pandas.io.formats.style.Styler at 0x1218a2b00>"
      ]
     },
     "execution_count": 39,
     "metadata": {},
     "output_type": "execute_result"
    }
   ],
   "source": [
    "bins = [0, 9, 14, 19, 24, 29,\n",
    "        34, 39, 100]\n",
    "\n",
    "group_labels = [\"<10\", \"10-14\", \"15-19\", \"20-24\", \"25-29\", \"30-34\",\n",
    "                \"35-39\", \"40+\"]\n",
    "\n",
    "pd.cut(purchase_data[\"Age\"], bins, labels=group_labels).head()\n",
    "\n",
    "\n",
    "purchase_data[\"age group\"] = pd.cut(purchase_data[\"Age\"], bins, labels=group_labels)\n",
    "purchase_data.head()\n",
    "\n",
    "purchase_age_group = purchase_data.groupby(\"age group\")\n",
    "\n",
    "age_pur_count = purchase_age_group[\"Price\"].count()\n",
    "\n",
    "age_pur_mean = purchase_age_group[\"Price\"].mean()\n",
    "\n",
    "\n",
    "total_age = purchase_age_group[\"Price\"].sum()\n",
    "\n",
    "\n",
    "\n",
    "avg_pur_group = total_age / unique_count\n",
    "\n",
    "\n",
    "age_purchase_summary_table = pd.DataFrame({\"Purchase Count\": age_pur_count,\"Average Purchase Price\": age_pur_mean,\"Total Purchase Value\": total_age, \"Avg Total Purchase Per Person\": avg_pur_group})\n",
    "age_purchase_summary_table\n",
    "\n",
    "age_purchase_summary_table.style.format({\"Average Purchase Price\":\"${:,.2f}\",\n",
    "                               \"Total Purchase Value\":\"${:,.2f}\",\n",
    "                               \"Avg Total Purchase Per Person\":\"${:,.2f}\"})\n"
   ]
  },
  {
   "cell_type": "markdown",
   "metadata": {},
   "source": [
    "## Top Spenders"
   ]
  },
  {
   "cell_type": "markdown",
   "metadata": {},
   "source": [
    "* Run basic calculations to obtain the results in the table below\n",
    "\n",
    "\n",
    "* Create a summary data frame to hold the results\n",
    "\n",
    "\n",
    "* Sort the total purchase value column in descending order\n",
    "\n",
    "\n",
    "* Optional: give the displayed data cleaner formatting\n",
    "\n",
    "\n",
    "* Display a preview of the summary data frame\n",
    "\n"
   ]
  },
  {
   "cell_type": "code",
   "execution_count": 31,
   "metadata": {},
   "outputs": [
    {
     "data": {
      "text/html": [
       "<style  type=\"text/css\" >\n",
       "</style><table id=\"T_7903fc8e_da46_11e9_8ff5_acde48001122\" ><thead>    <tr>        <th class=\"blank level0\" ></th>        <th class=\"col_heading level0 col0\" >Purchase Count</th>        <th class=\"col_heading level0 col1\" >Average Purchase Price</th>        <th class=\"col_heading level0 col2\" >Total Purchase Value</th>    </tr>    <tr>        <th class=\"index_name level0\" >SN</th>        <th class=\"blank\" ></th>        <th class=\"blank\" ></th>        <th class=\"blank\" ></th>    </tr></thead><tbody>\n",
       "                <tr>\n",
       "                        <th id=\"T_7903fc8e_da46_11e9_8ff5_acde48001122level0_row0\" class=\"row_heading level0 row0\" >Lisosia93</th>\n",
       "                        <td id=\"T_7903fc8e_da46_11e9_8ff5_acde48001122row0_col0\" class=\"data row0 col0\" >5</td>\n",
       "                        <td id=\"T_7903fc8e_da46_11e9_8ff5_acde48001122row0_col1\" class=\"data row0 col1\" >$3.79</td>\n",
       "                        <td id=\"T_7903fc8e_da46_11e9_8ff5_acde48001122row0_col2\" class=\"data row0 col2\" >$18.96</td>\n",
       "            </tr>\n",
       "            <tr>\n",
       "                        <th id=\"T_7903fc8e_da46_11e9_8ff5_acde48001122level0_row1\" class=\"row_heading level0 row1\" >Idastidru52</th>\n",
       "                        <td id=\"T_7903fc8e_da46_11e9_8ff5_acde48001122row1_col0\" class=\"data row1 col0\" >4</td>\n",
       "                        <td id=\"T_7903fc8e_da46_11e9_8ff5_acde48001122row1_col1\" class=\"data row1 col1\" >$3.86</td>\n",
       "                        <td id=\"T_7903fc8e_da46_11e9_8ff5_acde48001122row1_col2\" class=\"data row1 col2\" >$15.45</td>\n",
       "            </tr>\n",
       "            <tr>\n",
       "                        <th id=\"T_7903fc8e_da46_11e9_8ff5_acde48001122level0_row2\" class=\"row_heading level0 row2\" >Chamjask73</th>\n",
       "                        <td id=\"T_7903fc8e_da46_11e9_8ff5_acde48001122row2_col0\" class=\"data row2 col0\" >3</td>\n",
       "                        <td id=\"T_7903fc8e_da46_11e9_8ff5_acde48001122row2_col1\" class=\"data row2 col1\" >$4.61</td>\n",
       "                        <td id=\"T_7903fc8e_da46_11e9_8ff5_acde48001122row2_col2\" class=\"data row2 col2\" >$13.83</td>\n",
       "            </tr>\n",
       "            <tr>\n",
       "                        <th id=\"T_7903fc8e_da46_11e9_8ff5_acde48001122level0_row3\" class=\"row_heading level0 row3\" >Iral74</th>\n",
       "                        <td id=\"T_7903fc8e_da46_11e9_8ff5_acde48001122row3_col0\" class=\"data row3 col0\" >4</td>\n",
       "                        <td id=\"T_7903fc8e_da46_11e9_8ff5_acde48001122row3_col1\" class=\"data row3 col1\" >$3.40</td>\n",
       "                        <td id=\"T_7903fc8e_da46_11e9_8ff5_acde48001122row3_col2\" class=\"data row3 col2\" >$13.62</td>\n",
       "            </tr>\n",
       "            <tr>\n",
       "                        <th id=\"T_7903fc8e_da46_11e9_8ff5_acde48001122level0_row4\" class=\"row_heading level0 row4\" >Iskadarya95</th>\n",
       "                        <td id=\"T_7903fc8e_da46_11e9_8ff5_acde48001122row4_col0\" class=\"data row4 col0\" >3</td>\n",
       "                        <td id=\"T_7903fc8e_da46_11e9_8ff5_acde48001122row4_col1\" class=\"data row4 col1\" >$4.37</td>\n",
       "                        <td id=\"T_7903fc8e_da46_11e9_8ff5_acde48001122row4_col2\" class=\"data row4 col2\" >$13.10</td>\n",
       "            </tr>\n",
       "    </tbody></table>"
      ],
      "text/plain": [
       "<pandas.io.formats.style.Styler at 0x120f4b7f0>"
      ]
     },
     "execution_count": 31,
     "metadata": {},
     "output_type": "execute_result"
    }
   ],
   "source": [
    "purchase_by_spender = purchase_data.groupby(\"SN\")\n",
    "\n",
    "tot_purchase_count_spender = purchase_by_spender[\"Purchase ID\"].count()\n",
    "\n",
    "avg_purchase_price_spender = purchase_by_spender[\"Price\"].mean()\n",
    "\n",
    "total_purchase_spender = purchase_by_spender[\"Price\"].sum()\n",
    "\n",
    "top_spenders_df = pd.DataFrame({\"Purchase Count\": tot_purchase_count_spender,\n",
    "                             \"Average Purchase Price\": avg_purchase_price_spender,\n",
    "                             \"Total Purchase Value\":total_purchase_spender})\n",
    " \n",
    "sorted_spenders = top_spenders_df.sort_values([\"Total Purchase Value\"], ascending=False).head()\n",
    "\n",
    "sorted_spenders.style.format({\"Average Purchase Total\":\"${:,.2f}\",\n",
    "                                 \"Average Purchase Price\":\"${:,.2f}\", \n",
    "                                 \"Total Purchase Value\":\"${:,.2f}\"})"
   ]
  },
  {
   "cell_type": "markdown",
   "metadata": {},
   "source": [
    "## Most Popular Items"
   ]
  },
  {
   "cell_type": "markdown",
   "metadata": {},
   "source": [
    "* Retrieve the Item ID, Item Name, and Item Price columns\n",
    "\n",
    "\n",
    "* Group by Item ID and Item Name. Perform calculations to obtain purchase count, item price, and total purchase value\n",
    "\n",
    "\n",
    "* Create a summary data frame to hold the results\n",
    "\n",
    "\n",
    "* Sort the purchase count column in descending order\n",
    "\n",
    "\n",
    "* Optional: give the displayed data cleaner formatting\n",
    "\n",
    "\n",
    "* Display a preview of the summary data frame\n",
    "\n"
   ]
  },
  {
   "cell_type": "code",
   "execution_count": 35,
   "metadata": {},
   "outputs": [
    {
     "data": {
      "text/html": [
       "<style  type=\"text/css\" >\n",
       "</style><table id=\"T_28d82810_da47_11e9_8ff5_acde48001122\" ><thead>    <tr>        <th class=\"blank\" ></th>        <th class=\"blank level0\" ></th>        <th class=\"col_heading level0 col0\" >Purchase Count</th>        <th class=\"col_heading level0 col1\" >Item Price</th>        <th class=\"col_heading level0 col2\" >Total Purchase Value</th>    </tr>    <tr>        <th class=\"index_name level0\" >Item ID</th>        <th class=\"index_name level1\" >Item Name</th>        <th class=\"blank\" ></th>        <th class=\"blank\" ></th>        <th class=\"blank\" ></th>    </tr></thead><tbody>\n",
       "                <tr>\n",
       "                        <th id=\"T_28d82810_da47_11e9_8ff5_acde48001122level0_row0\" class=\"row_heading level0 row0\" >178</th>\n",
       "                        <th id=\"T_28d82810_da47_11e9_8ff5_acde48001122level1_row0\" class=\"row_heading level1 row0\" >Oathbreaker, Last Hope of the Breaking Storm</th>\n",
       "                        <td id=\"T_28d82810_da47_11e9_8ff5_acde48001122row0_col0\" class=\"data row0 col0\" >12</td>\n",
       "                        <td id=\"T_28d82810_da47_11e9_8ff5_acde48001122row0_col1\" class=\"data row0 col1\" >$4.23</td>\n",
       "                        <td id=\"T_28d82810_da47_11e9_8ff5_acde48001122row0_col2\" class=\"data row0 col2\" >$50.76</td>\n",
       "            </tr>\n",
       "            <tr>\n",
       "                        <th id=\"T_28d82810_da47_11e9_8ff5_acde48001122level0_row1\" class=\"row_heading level0 row1\" >145</th>\n",
       "                        <th id=\"T_28d82810_da47_11e9_8ff5_acde48001122level1_row1\" class=\"row_heading level1 row1\" >Fiery Glass Crusader</th>\n",
       "                        <td id=\"T_28d82810_da47_11e9_8ff5_acde48001122row1_col0\" class=\"data row1 col0\" >9</td>\n",
       "                        <td id=\"T_28d82810_da47_11e9_8ff5_acde48001122row1_col1\" class=\"data row1 col1\" >$4.58</td>\n",
       "                        <td id=\"T_28d82810_da47_11e9_8ff5_acde48001122row1_col2\" class=\"data row1 col2\" >$41.22</td>\n",
       "            </tr>\n",
       "            <tr>\n",
       "                        <th id=\"T_28d82810_da47_11e9_8ff5_acde48001122level0_row2\" class=\"row_heading level0 row2\" >108</th>\n",
       "                        <th id=\"T_28d82810_da47_11e9_8ff5_acde48001122level1_row2\" class=\"row_heading level1 row2\" >Extraction, Quickblade Of Trembling Hands</th>\n",
       "                        <td id=\"T_28d82810_da47_11e9_8ff5_acde48001122row2_col0\" class=\"data row2 col0\" >9</td>\n",
       "                        <td id=\"T_28d82810_da47_11e9_8ff5_acde48001122row2_col1\" class=\"data row2 col1\" >$3.53</td>\n",
       "                        <td id=\"T_28d82810_da47_11e9_8ff5_acde48001122row2_col2\" class=\"data row2 col2\" >$31.77</td>\n",
       "            </tr>\n",
       "            <tr>\n",
       "                        <th id=\"T_28d82810_da47_11e9_8ff5_acde48001122level0_row3\" class=\"row_heading level0 row3\" >82</th>\n",
       "                        <th id=\"T_28d82810_da47_11e9_8ff5_acde48001122level1_row3\" class=\"row_heading level1 row3\" >Nirvana</th>\n",
       "                        <td id=\"T_28d82810_da47_11e9_8ff5_acde48001122row3_col0\" class=\"data row3 col0\" >9</td>\n",
       "                        <td id=\"T_28d82810_da47_11e9_8ff5_acde48001122row3_col1\" class=\"data row3 col1\" >$4.90</td>\n",
       "                        <td id=\"T_28d82810_da47_11e9_8ff5_acde48001122row3_col2\" class=\"data row3 col2\" >$44.10</td>\n",
       "            </tr>\n",
       "            <tr>\n",
       "                        <th id=\"T_28d82810_da47_11e9_8ff5_acde48001122level0_row4\" class=\"row_heading level0 row4\" >19</th>\n",
       "                        <th id=\"T_28d82810_da47_11e9_8ff5_acde48001122level1_row4\" class=\"row_heading level1 row4\" >Pursuit, Cudgel of Necromancy</th>\n",
       "                        <td id=\"T_28d82810_da47_11e9_8ff5_acde48001122row4_col0\" class=\"data row4 col0\" >8</td>\n",
       "                        <td id=\"T_28d82810_da47_11e9_8ff5_acde48001122row4_col1\" class=\"data row4 col1\" >$1.02</td>\n",
       "                        <td id=\"T_28d82810_da47_11e9_8ff5_acde48001122row4_col2\" class=\"data row4 col2\" >$8.16</td>\n",
       "            </tr>\n",
       "    </tbody></table>"
      ],
      "text/plain": [
       "<pandas.io.formats.style.Styler at 0x122270e10>"
      ]
     },
     "execution_count": 35,
     "metadata": {},
     "output_type": "execute_result"
    }
   ],
   "source": [
    "items_only = purchase_data[[\"Item ID\", \"Item Name\", \"Price\"]]\n",
    "\n",
    "item_group = items_only.groupby([\"Item ID\",\"Item Name\"])\n",
    "\n",
    "purchase_count_item = item_group[\"Price\"].count()\n",
    "\n",
    "purchase_value = (item_group[\"Price\"].sum()) \n",
    "\n",
    "item_price = purchase_value/purchase_count_item\n",
    "\n",
    "most_popular_items = pd.DataFrame({\"Purchase Count\": purchase_count_item, \n",
    "                                   \"Item Price\": item_price,\n",
    "                                   \"Total Purchase Value\":purchase_value})\n",
    "\n",
    "popular_items_sorted = most_popular_items.sort_values([\"Purchase Count\"], ascending=False).head()\n",
    "\n",
    "\n",
    "popular_items_sorted.style.format({\"Item Price\":\"${:,.2f}\",\n",
    "                                \"Total Purchase Value\":\"${:,.2f}\"})"
   ]
  },
  {
   "cell_type": "markdown",
   "metadata": {},
   "source": [
    "## Most Profitable Items"
   ]
  },
  {
   "cell_type": "markdown",
   "metadata": {},
   "source": [
    "* Sort the above table by total purchase value in descending order\n",
    "\n",
    "\n",
    "* Optional: give the displayed data cleaner formatting\n",
    "\n",
    "\n",
    "* Display a preview of the data frame\n",
    "\n"
   ]
  },
  {
   "cell_type": "code",
   "execution_count": 34,
   "metadata": {
    "scrolled": true
   },
   "outputs": [
    {
     "data": {
      "text/html": [
       "<style  type=\"text/css\" >\n",
       "</style><table id=\"T_fc5f817a_da46_11e9_8ff5_acde48001122\" ><thead>    <tr>        <th class=\"blank\" ></th>        <th class=\"blank level0\" ></th>        <th class=\"col_heading level0 col0\" >Purchase Count</th>        <th class=\"col_heading level0 col1\" >Item Price</th>        <th class=\"col_heading level0 col2\" >Total Purchase Value</th>    </tr>    <tr>        <th class=\"index_name level0\" >Item ID</th>        <th class=\"index_name level1\" >Item Name</th>        <th class=\"blank\" ></th>        <th class=\"blank\" ></th>        <th class=\"blank\" ></th>    </tr></thead><tbody>\n",
       "                <tr>\n",
       "                        <th id=\"T_fc5f817a_da46_11e9_8ff5_acde48001122level0_row0\" class=\"row_heading level0 row0\" >178</th>\n",
       "                        <th id=\"T_fc5f817a_da46_11e9_8ff5_acde48001122level1_row0\" class=\"row_heading level1 row0\" >Oathbreaker, Last Hope of the Breaking Storm</th>\n",
       "                        <td id=\"T_fc5f817a_da46_11e9_8ff5_acde48001122row0_col0\" class=\"data row0 col0\" >12</td>\n",
       "                        <td id=\"T_fc5f817a_da46_11e9_8ff5_acde48001122row0_col1\" class=\"data row0 col1\" >$4.23</td>\n",
       "                        <td id=\"T_fc5f817a_da46_11e9_8ff5_acde48001122row0_col2\" class=\"data row0 col2\" >$50.76</td>\n",
       "            </tr>\n",
       "            <tr>\n",
       "                        <th id=\"T_fc5f817a_da46_11e9_8ff5_acde48001122level0_row1\" class=\"row_heading level0 row1\" >82</th>\n",
       "                        <th id=\"T_fc5f817a_da46_11e9_8ff5_acde48001122level1_row1\" class=\"row_heading level1 row1\" >Nirvana</th>\n",
       "                        <td id=\"T_fc5f817a_da46_11e9_8ff5_acde48001122row1_col0\" class=\"data row1 col0\" >9</td>\n",
       "                        <td id=\"T_fc5f817a_da46_11e9_8ff5_acde48001122row1_col1\" class=\"data row1 col1\" >$4.90</td>\n",
       "                        <td id=\"T_fc5f817a_da46_11e9_8ff5_acde48001122row1_col2\" class=\"data row1 col2\" >$44.10</td>\n",
       "            </tr>\n",
       "            <tr>\n",
       "                        <th id=\"T_fc5f817a_da46_11e9_8ff5_acde48001122level0_row2\" class=\"row_heading level0 row2\" >145</th>\n",
       "                        <th id=\"T_fc5f817a_da46_11e9_8ff5_acde48001122level1_row2\" class=\"row_heading level1 row2\" >Fiery Glass Crusader</th>\n",
       "                        <td id=\"T_fc5f817a_da46_11e9_8ff5_acde48001122row2_col0\" class=\"data row2 col0\" >9</td>\n",
       "                        <td id=\"T_fc5f817a_da46_11e9_8ff5_acde48001122row2_col1\" class=\"data row2 col1\" >$4.58</td>\n",
       "                        <td id=\"T_fc5f817a_da46_11e9_8ff5_acde48001122row2_col2\" class=\"data row2 col2\" >$41.22</td>\n",
       "            </tr>\n",
       "            <tr>\n",
       "                        <th id=\"T_fc5f817a_da46_11e9_8ff5_acde48001122level0_row3\" class=\"row_heading level0 row3\" >92</th>\n",
       "                        <th id=\"T_fc5f817a_da46_11e9_8ff5_acde48001122level1_row3\" class=\"row_heading level1 row3\" >Final Critic</th>\n",
       "                        <td id=\"T_fc5f817a_da46_11e9_8ff5_acde48001122row3_col0\" class=\"data row3 col0\" >8</td>\n",
       "                        <td id=\"T_fc5f817a_da46_11e9_8ff5_acde48001122row3_col1\" class=\"data row3 col1\" >$4.88</td>\n",
       "                        <td id=\"T_fc5f817a_da46_11e9_8ff5_acde48001122row3_col2\" class=\"data row3 col2\" >$39.04</td>\n",
       "            </tr>\n",
       "            <tr>\n",
       "                        <th id=\"T_fc5f817a_da46_11e9_8ff5_acde48001122level0_row4\" class=\"row_heading level0 row4\" >103</th>\n",
       "                        <th id=\"T_fc5f817a_da46_11e9_8ff5_acde48001122level1_row4\" class=\"row_heading level1 row4\" >Singed Scalpel</th>\n",
       "                        <td id=\"T_fc5f817a_da46_11e9_8ff5_acde48001122row4_col0\" class=\"data row4 col0\" >8</td>\n",
       "                        <td id=\"T_fc5f817a_da46_11e9_8ff5_acde48001122row4_col1\" class=\"data row4 col1\" >$4.35</td>\n",
       "                        <td id=\"T_fc5f817a_da46_11e9_8ff5_acde48001122row4_col2\" class=\"data row4 col2\" >$34.80</td>\n",
       "            </tr>\n",
       "    </tbody></table>"
      ],
      "text/plain": [
       "<pandas.io.formats.style.Styler at 0x122193828>"
      ]
     },
     "execution_count": 34,
     "metadata": {},
     "output_type": "execute_result"
    }
   ],
   "source": [
    "popular_sorted_high = most_popular_items.sort_values([\"Total Purchase Value\"],\n",
    "                                                   ascending=False).head()\n",
    "\n",
    "popular_sorted_high.style.format({\"Item Price\":\"${:,.2f}\",\n",
    "                                \"Total Purchase Value\":\"${:,.2f}\"})"
   ]
  },
  {
   "cell_type": "code",
   "execution_count": null,
   "metadata": {},
   "outputs": [],
   "source": []
  }
 ],
 "metadata": {
  "anaconda-cloud": {},
  "kernel_info": {
   "name": "python3"
  },
  "kernelspec": {
   "display_name": "Python 3",
   "language": "python",
   "name": "python3"
  },
  "language_info": {
   "codemirror_mode": {
    "name": "ipython",
    "version": 3
   },
   "file_extension": ".py",
   "mimetype": "text/x-python",
   "name": "python",
   "nbconvert_exporter": "python",
   "pygments_lexer": "ipython3",
   "version": "3.7.3"
  },
  "latex_envs": {
   "LaTeX_envs_menu_present": true,
   "autoclose": false,
   "autocomplete": true,
   "bibliofile": "biblio.bib",
   "cite_by": "apalike",
   "current_citInitial": 1,
   "eqLabelWithNumbers": true,
   "eqNumInitial": 1,
   "hotkeys": {
    "equation": "Ctrl-E",
    "itemize": "Ctrl-I"
   },
   "labels_anchors": false,
   "latex_user_defs": false,
   "report_style_numbering": false,
   "user_envs_cfg": false
  },
  "nteract": {
   "version": "0.2.0"
  }
 },
 "nbformat": 4,
 "nbformat_minor": 2
}
